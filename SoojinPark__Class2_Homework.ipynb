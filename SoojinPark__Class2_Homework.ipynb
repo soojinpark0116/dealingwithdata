{
  "nbformat": 4,
  "nbformat_minor": 0,
  "metadata": {
    "kernelspec": {
      "display_name": "Python 3",
      "language": "python",
      "name": "python3"
    },
    "language_info": {
      "codemirror_mode": {
        "name": "ipython",
        "version": 3
      },
      "file_extension": ".py",
      "mimetype": "text/x-python",
      "name": "python",
      "nbconvert_exporter": "python",
      "pygments_lexer": "ipython3",
      "version": "3.7.3"
    },
    "colab": {
      "name": "_YOUR_NAME_HERE__Class2_Homework.ipynb",
      "provenance": [],
      "include_colab_link": true
    }
  },
  "cells": [
    {
      "cell_type": "markdown",
      "metadata": {
        "id": "view-in-github",
        "colab_type": "text"
      },
      "source": [
        "<a href=\"https://colab.research.google.com/github/soojinpark0116/dealingwithdata/blob/master/SoojinPark__Class2_Homework.ipynb\" target=\"_parent\"><img src=\"https://colab.research.google.com/assets/colab-badge.svg\" alt=\"Open In Colab\"/></a>"
      ]
    },
    {
      "cell_type": "markdown",
      "metadata": {
        "id": "yKiJB_9Yj44m",
        "colab_type": "text"
      },
      "source": [
        "## To submit this assignment, please solve the following problem. Then, save your notebook with the format [YOUR_NAME_HERE]\\_Class2_Homework and submit via NYU Classes. "
      ]
    },
    {
      "cell_type": "markdown",
      "metadata": {
        "id": "zIITm4FJj44n",
        "colab_type": "text"
      },
      "source": [
        "---"
      ]
    },
    {
      "cell_type": "markdown",
      "metadata": {
        "id": "_F_dHmwsj44p",
        "colab_type": "text"
      },
      "source": [
        "#celsius = (temperature - 32) / 1.8\n",
        "#fahrenheit = (temperature * 1.8) + 32### Problem One (4 points): \n",
        "Write a program that converts a Celsius temperature to Farhenheit and vice-versa. \n",
        "\n",
        "> 3 points: Your program must ask a user to input a temperature and a measurement system, and then tell the user the converted temperature. Your program must also handle situations when users enter incorrect information.\n",
        "\n",
        "> 1 point: Explain, step-by-step, what your solution for Problem \\#1 is doing by adding comments in your code above."
      ]
    },
    {
      "cell_type": "code",
      "metadata": {
        "id": "NX_ag11tj44q",
        "colab_type": "code",
        "colab": {
          "base_uri": "https://localhost:8080/",
          "height": 68
        },
        "outputId": "00556a30-a6d0-4fef-a139-dcede809b59c"
      },
      "source": [
        "#celsius = (temperature - 32) / 1.8\n",
        "#fahrenheit = (temperature * 1.8) + 32\n",
        "\n",
        "temperature = int(input(\"Please enter temperature:\"))\n",
        "measurement_system = input(\"Convert into °F or °C? (F/C):\").upper()\n",
        "\n",
        "while measurement_system == \"F\" or \"C\":\n",
        "\n",
        "  if measurement_system == \"F\":\n",
        "    print(\"The temperature is\", round(temperature * 1.8 + 32), \"°F\")\n",
        "    break\n",
        "\n",
        "  if measurement_system == \"C\":\n",
        "    print(\"The temperature is\", round((temperature - 32) / 1.8), \"°C\")\n",
        "    break\n",
        "\n",
        "  else:\n",
        "    print(\"Please indicate using F or C only!\")\n",
        "    measurement_system = input(\"Convert into °F or °C? (F/C):\").upper()\n"
      ],
      "execution_count": 63,
      "outputs": [
        {
          "output_type": "stream",
          "text": [
            "Please enter temperature:33\n",
            "Convert into °F or °C? (F/C):f\n",
            "The temperature is 91 °F\n"
          ],
          "name": "stdout"
        }
      ]
    },
    {
      "cell_type": "markdown",
      "metadata": {
        "id": "DxFMi0v_j44u",
        "colab_type": "text"
      },
      "source": [
        "---"
      ]
    },
    {
      "cell_type": "markdown",
      "metadata": {
        "id": "OCWbq_jzj44v",
        "colab_type": "text"
      },
      "source": [
        "### Problem Two (2 points): \n",
        "\n",
        "Fix the errors in the code below to make the program work and add comments to the code to explain your fixes."
      ]
    },
    {
      "cell_type": "code",
      "metadata": {
        "id": "qnXHHaUYj44w",
        "colab_type": "code",
        "colab": {}
      },
      "source": [
        "# this program requires two users to enter their passwords to cancel a banking transaction\n",
        "\n",
        "print(\"user 1: what is your password?\")\n",
        "1st_user_password = input()\n",
        "\n",
        "if 1st_user_password = \"cancel\"\n",
        "    print(\"user 2: what is your password?)\n",
        "    second_user_password == input()\n",
        "\n",
        "    if second_user_password = \"confirm\":\n",
        "        print(\"success! the bank transaction is cancelled!\")\n",
        "    else\n",
        "        print(\"wrong password! locking system.')\n",
        "else:\n",
        "    print(\"wrong password! locking system.\")"
      ],
      "execution_count": 0,
      "outputs": []
    },
    {
      "cell_type": "markdown",
      "metadata": {
        "id": "TQLPbCUMj440",
        "colab_type": "text"
      },
      "source": [
        "---"
      ]
    },
    {
      "cell_type": "markdown",
      "metadata": {
        "id": "3XQHGWcZj441",
        "colab_type": "text"
      },
      "source": [
        "### Problem Three (4 points): \n",
        "\n",
        "Identify a routine task that you perform for school or work that you could automate based on the Python you've learned so far. \n",
        "\n",
        "> 1 point: Describe the task, its inputs, its ouptuts, and the benefit/value automating the task could provide to you. \n",
        "\n"
      ]
    },
    {
      "cell_type": "markdown",
      "metadata": {
        "id": "UQXHIZ_vj442",
        "colab_type": "text"
      },
      "source": [
        "\\>> (enter your description here)"
      ]
    },
    {
      "cell_type": "markdown",
      "metadata": {
        "id": "q7WUF7bYj443",
        "colab_type": "text"
      },
      "source": [
        "> 3 points: Develop a Python script to simulate automating that task. Use what you know to supplement what you haven't learned already, for example: since we have not yet learned how to ouptut/save a file to your computer, \"fake\" the file output by using a print() statement.\n"
      ]
    },
    {
      "cell_type": "code",
      "metadata": {
        "id": "u9gU8_H-j443",
        "colab_type": "code",
        "colab": {}
      },
      "source": [
        "# your code here"
      ],
      "execution_count": 0,
      "outputs": []
    },
    {
      "cell_type": "markdown",
      "metadata": {
        "id": "fYBu13fKj446",
        "colab_type": "text"
      },
      "source": [
        "\n"
      ]
    }
  ]
}