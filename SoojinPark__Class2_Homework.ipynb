{
  "nbformat": 4,
  "nbformat_minor": 0,
  "metadata": {
    "kernelspec": {
      "display_name": "Python 3",
      "language": "python",
      "name": "python3"
    },
    "language_info": {
      "codemirror_mode": {
        "name": "ipython",
        "version": 3
      },
      "file_extension": ".py",
      "mimetype": "text/x-python",
      "name": "python",
      "nbconvert_exporter": "python",
      "pygments_lexer": "ipython3",
      "version": "3.7.3"
    },
    "colab": {
      "name": "SoojinPark__Class2_Homework.ipynb",
      "provenance": [],
      "include_colab_link": true
    }
  },
  "cells": [
    {
      "cell_type": "markdown",
      "metadata": {
        "id": "view-in-github",
        "colab_type": "text"
      },
      "source": [
        "<a href=\"https://colab.research.google.com/github/soojinpark0116/dealingwithdata/blob/master/SoojinPark__Class2_Homework.ipynb\" target=\"_parent\"><img src=\"https://colab.research.google.com/assets/colab-badge.svg\" alt=\"Open In Colab\"/></a>"
      ]
    },
    {
      "cell_type": "markdown",
      "metadata": {
        "id": "yKiJB_9Yj44m",
        "colab_type": "text"
      },
      "source": [
        "## To submit this assignment, please solve the following problem. Then, save your notebook with the format [YOUR_NAME_HERE]\\_Class2_Homework and submit via NYU Classes. "
      ]
    },
    {
      "cell_type": "markdown",
      "metadata": {
        "id": "zIITm4FJj44n",
        "colab_type": "text"
      },
      "source": [
        "---"
      ]
    },
    {
      "cell_type": "markdown",
      "metadata": {
        "id": "_F_dHmwsj44p",
        "colab_type": "text"
      },
      "source": [
        "Problem One (4 points): \n",
        "Write a program that converts a Celsius temperature to Farhenheit and vice-versa. \n",
        "\n",
        "> 3 points: Your program must ask a user to input a temperature and a measurement system, and then tell the user the converted temperature. Your program must also handle situations when users enter incorrect information.\n",
        "\n",
        "> 1 point: Explain, step-by-step, what your solution for Problem \\#1 is doing by adding comments in your code above."
      ]
    },
    {
      "cell_type": "code",
      "metadata": {
        "id": "NX_ag11tj44q",
        "colab_type": "code",
        "outputId": "ab8a35d5-af7a-4447-ad24-78f383f81e55",
        "colab": {
          "base_uri": "https://localhost:8080/",
          "height": 85
        }
      },
      "source": [
        "#I followed the below formulas for conversion:\n",
        "#celsius = (temperature - 32) / 1.8\n",
        "#fahrenheit = (temperature * 1.8) + 32\n",
        "\n",
        "#First, I set up a variable called 'temperature' so we have a value to work on. \n",
        "#It requires the user to enter an input.\n",
        "#Also, I realized that making sure that the input is understood as a number from this\n",
        "#stage will mess up the process because right below I ask if it's a number. So\n",
        "#I reserved that for later as you'll see.\n",
        "temperature = input(\"Please enter temperature:\")\n",
        "\n",
        "#Just in case the user types in something other than a number (ex: \"four\"), \n",
        "#which would not help with the below conversion, I made sure that the input\n",
        "#is a number by using 'while', 'not', and '.isdigit()'.\n",
        "while not temperature.isdigit():\n",
        "  temperature = input(\"Please enter number only!:\")\n",
        "\n",
        "#If the user has successfully entered a number input, the program goes on to\n",
        "#ask the measurement system they want their number to be converted into.\n",
        "#This also automatically assumes which measurement system of the initial\n",
        "#temperature that the user entered, because it's one or the other.\n",
        "#In case the user types in lower cases, '.upper()' was added to make it case insensitive.\n",
        "measurement_system = input(\"Convert into °F or °C? (F/C):\").upper()\n",
        "\n",
        "#Again, I used 'while' here. This was to ensure that if the user types in something \n",
        "#that's other than \"F\"/\"f\"/\"C\"/\"c\", the user is asked to provide the correct input.\n",
        "while measurement_system == \"F\" or \"C\":\n",
        "\n",
        "#If the user says that s/he wants the result in Fahrenheit, it assumes that the \n",
        "#user's original input was in Celsius and converts into Fahrenheit. \n",
        "#'break' was used to make sure it doesn't keep looping (because of 'while function.)\n",
        "#I rounded the result.\n",
        "  if measurement_system == \"F\":\n",
        "    print(\"The temperature is\", round(int(temperature) * 1.8 + 32), \"°F\")\n",
        "    break\n",
        "\n",
        "#If the user says that s/he wants the result in Celsius, it assumes that the \n",
        "#user's original input was in Fahrenheit and converts into Celsius.\n",
        "#'break' was used to make sure it doesn't keep looping (because of 'while function.)\n",
        "#I rounded the result.\n",
        "  elif measurement_system == \"C\":\n",
        "    print(\"The temperature is\", round((int(temperature) - 32) / 1.8), \"°C\")\n",
        "    break\n",
        "\n",
        "#If the user has typed in anything other than the assigned input (\"F\"/\"f\"/\"C\"/\"c\"),\n",
        "#It sends an error message and asks the user to type it again.\n",
        "  else:\n",
        "    print(\"Please indicate using F or C only!\")\n",
        "    measurement_system = input(\"Convert into °F or °C? (F/C):\").upper()\n"
      ],
      "execution_count": 24,
      "outputs": [
        {
          "output_type": "stream",
          "text": [
            "Please enter temperature:f\n",
            "Please enter number only!:33\n",
            "Convert into °F or °C? (F/C):c\n",
            "The temperature is 1 °C\n"
          ],
          "name": "stdout"
        }
      ]
    },
    {
      "cell_type": "markdown",
      "metadata": {
        "id": "DxFMi0v_j44u",
        "colab_type": "text"
      },
      "source": [
        "---"
      ]
    },
    {
      "cell_type": "markdown",
      "metadata": {
        "id": "OCWbq_jzj44v",
        "colab_type": "text"
      },
      "source": [
        "### Problem Two (2 points): \n",
        "\n",
        "Fix the errors in the code below to make the program work and add comments to the code to explain your fixes."
      ]
    },
    {
      "cell_type": "code",
      "metadata": {
        "id": "qnXHHaUYj44w",
        "colab_type": "code",
        "outputId": "85dfc7bc-ae99-4127-8135-14eb6d45facd",
        "colab": {
          "base_uri": "https://localhost:8080/",
          "height": 68
        }
      },
      "source": [
        "#[Original:]\n",
        "# this program requires two users to enter their passwords to cancel a banking transaction\n",
        "#print(\"user 1: what is your password?\")\n",
        "#1st_user_password = input()\n",
        "#if 1st_user_password = \"cancel\"\n",
        "    #print(\"user 2: what is your password?)\n",
        "    #second_user_password == input()\n",
        "    #if second_user_password = \"confirm\":\n",
        "        #print(\"success! the bank transaction is cancelled!\")\n",
        "    #else\n",
        "        #print(\"wrong password! locking system.')\n",
        "#else:\n",
        "    #print(\"wrong password! locking system.\")\n",
        "\n",
        "#[My correction:]\n",
        "#Since you're asking for an input from the user, not merely stating something, you\n",
        "#would not need to use 'print'. In fact, you can reduce it down to one sentence to\n",
        "#associate the variable 'first_user_password' directly to the input so that whatever the\n",
        "#user enters becomes 'first_user_password'. Also, I changed '1st_user_password' to\n",
        "#'first_user_password' because you cannot use a number as the first character for a variable.\n",
        "first_user_password = input(\"user 1: what is your password?\")\n",
        "\n",
        "#this 'if' statement needs double equals because '=' is an assignment operator \n",
        "#and == is a comparison operator, which is what we need because we're trying to compare\n",
        "#the user's input with what the word we've assigned (\"cancel\"). Also, colon is needed at the end for declaration.\n",
        "if first_user_password == \"cancel\":\n",
        "\n",
        "#same as stated previously: instead of using print, whatever the user types in should\n",
        "#become 'second_user_password' automatically.\n",
        "    second_user_password = input(\"user 2: what is your password?\")\n",
        "\n",
        "    #Again, '==' should replace '='.\n",
        "    if second_user_password == \"confirm\":\n",
        "        print(\"success! the bank transaction is cancelled!\")\n",
        "    \n",
        "    #Colon is needed after 'else' for declaration\n",
        "    else:\n",
        "        print(\"wrong password! locking system.\")\n",
        "else:\n",
        "    print(\"wrong password! locking system.\")"
      ],
      "execution_count": 25,
      "outputs": [
        {
          "output_type": "stream",
          "text": [
            "user 1: what is your password?cancel\n",
            "user 2: what is your password?confirm\n",
            "success! the bank transaction is cancelled!\n"
          ],
          "name": "stdout"
        }
      ]
    },
    {
      "cell_type": "markdown",
      "metadata": {
        "id": "TQLPbCUMj440",
        "colab_type": "text"
      },
      "source": [
        "---"
      ]
    },
    {
      "cell_type": "markdown",
      "metadata": {
        "id": "3XQHGWcZj441",
        "colab_type": "text"
      },
      "source": [
        "### Problem Three (4 points): \n",
        "\n",
        "Identify a routine task that you perform for school or work that you could automate based on the Python you've learned so far. \n",
        "\n",
        "> 1 point: Describe the task, its inputs, its ouptuts, and the benefit/value automating the task could provide to you. \n",
        "\n"
      ]
    },
    {
      "cell_type": "markdown",
      "metadata": {
        "id": "UQXHIZ_vj442",
        "colab_type": "text"
      },
      "source": [
        "Description: I study video archiving in the program that I'm in. And we often have to sort out files in particular ways so that we can make a separate list to indicate that they are files that serve a particular purpose (for example: I might want to distinguish document files that contain the metadata for an original file vs a mezzanine copy.) So I thought it would be helpful to have Python extract a list of files from a directory that contains a particular word. I'm only aware of the functions in Excel that allows you to sort out names via the letters that the file starts/ends with. But often times, the words I'm looking for are placed in the middle of the file name. So I wanted to create a script that would simply list files with a particular string in them\n",
        "\n",
        "Input/Output: As you can see from the script I made below, I used the 'import' and '.listdir' statements to bring the names of the files that I want to work with. I also used the 'for-in' loop \"to traverse sequentially through lists, tuples, strings, dictionary, and sets\" as found through my research. And as we went over in class, I used 'if...in' to find the items that contain the word 'original' (set as variable 'keyword'). \n",
        "\n",
        "Benefits: As a result for printing the 'filename'(s) that only contain the word 'original', I am given a list of files that contain the word regardless of where it's positioned. I now can copy and paste this on a spreadsheet under one column, or can easily count how many files contain the word 'original'.\n",
        "\n",
        "[Screengrab of running the script on an actual file directory on my computer using Sublime](https://www.flickr.com/photos/187159089@N06/49579420273/in/dateposted-public/)\n",
        "\n",
        "\n",
        "---\n",
        "\n"
      ]
    },
    {
      "cell_type": "markdown",
      "metadata": {
        "id": "q7WUF7bYj443",
        "colab_type": "text"
      },
      "source": [
        "> 3 points: Develop a Python script to simulate automating that task. Use what you know to supplement what you haven't learned already, for example: since we have not yet learned how to ouptut/save a file to your computer, \"fake\" the file output by using a print() statement.\n"
      ]
    },
    {
      "cell_type": "code",
      "metadata": {
        "id": "u9gU8_H-j443",
        "colab_type": "code",
        "colab": {}
      },
      "source": [
        "# your code here\n",
        "import os\n",
        "keyword = 'original'\n",
        "for filename in os.listdir('/Users/soojinpark/Desktop/School/Fall2019/Digital_Preservation/Assignments'):\n",
        "\tif keyword in filename:\n",
        "\t\tprint(filename)"
      ],
      "execution_count": 0,
      "outputs": []
    },
    {
      "cell_type": "markdown",
      "metadata": {
        "id": "fYBu13fKj446",
        "colab_type": "text"
      },
      "source": [
        "\n"
      ]
    }
  ]
}